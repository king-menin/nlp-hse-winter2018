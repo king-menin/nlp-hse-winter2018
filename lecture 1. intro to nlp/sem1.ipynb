{
  "nbformat": 4,
  "nbformat_minor": 0,
  "metadata": {
    "colab": {
      "name": "sem1.ipynb",
      "version": "0.3.2",
      "provenance": [],
      "collapsed_sections": []
    },
    "kernelspec": {
      "name": "python3",
      "display_name": "Python 3"
    },
    "accelerator": "GPU"
  },
  "cells": [
    {
      "metadata": {
        "id": "2zyp68invvYA",
        "colab_type": "text"
      },
      "cell_type": "markdown",
      "source": [
        "#### Необходимые библиотеки для занятия    \n",
        "Обычно <b>ставятся автоматически</b> при установке jupyter notebook:\n",
        "<ul>\n",
        "<li><i>numpy</i> - для работы с массивами\n",
        "\n",
        "```!pip3 install numpy```\n",
        "</li>\n",
        "<li><i>sklearn</i> - блиблиотека для работы с данными, содержит большинство алгоритмов машинного обучения</li>\n",
        "\n",
        "```!pip3 install sklearn```\n",
        "\n",
        "</li>\n",
        "<li><i>pandas</i> - библиотека для удобной работы с данными как с DataFrame\n",
        "\n",
        "```!pip3 install pandas```\n",
        "</li>\n",
        "<li><i>matplotlib</i> - библиотека для визуализации\n",
        "\n",
        "```!pip3 install matplotlib```\n",
        "</li>\n",
        "</ul>\n",
        "\n",
        "Обычно <b>не ставятся автоматически</b> при установке jupyter notebook:\n",
        "<ul>\n",
        "<li><i>rusenttokenize</i> - для разбиения текста на предложения (русский язык)\n",
        "\n",
        "```!pip3 install rusenttokenize```\n",
        "</li>\n",
        "<li><i>nltk</i> - фреймворк для обработки ЕЯ\n",
        "\n",
        "```!pip3 install nltk```\n",
        "\n",
        "Также необходимо выполнить следующие команды, чтобы загрузить данные:\n",
        "\n",
        "\n",
        "```import nltk```\n",
        "\n",
        "```nltk.download('treebank')```\n",
        "\n",
        "```nltk.download('stopwords')```\n",
        "\n",
        "```nltk.download('punkt')```\n",
        "\n",
        "<li><i>python-crfsuite</i> - для использования CRF</li>\n",
        "\n",
        "```!pip3 install python-crfsuite```\n",
        "</li>\n",
        "<li><i>pymorphy2</i> - морфологический анализатор русского языка\n",
        "\n",
        "```!pip3 install pymorphy2```\n",
        "</li>\n",
        "</ul>"
      ]
    },
    {
      "metadata": {
        "id": "hUb4C8IXnC5g",
        "colab_type": "code",
        "colab": {}
      },
      "cell_type": "code",
      "source": [
        ""
      ],
      "execution_count": 0,
      "outputs": []
    },
    {
      "metadata": {
        "id": "A2GlHrdvwNrS",
        "colab_type": "text"
      },
      "cell_type": "markdown",
      "source": [
        "### For colab:\n",
        "Install libs"
      ]
    },
    {
      "metadata": {
        "id": "h74PumtUvzFh",
        "colab_type": "code",
        "outputId": "fbc87361-2878-4ca7-ecb3-691dd8954be9",
        "colab": {
          "base_uri": "https://localhost:8080/",
          "height": 134
        }
      },
      "cell_type": "code",
      "source": [
        "import nltk\n",
        "nltk.download('treebank')\n",
        "nltk.download('stopwords')\n",
        "nltk.download('punkt')"
      ],
      "execution_count": 1,
      "outputs": [
        {
          "output_type": "stream",
          "text": [
            "[nltk_data] Downloading package treebank to /root/nltk_data...\n",
            "[nltk_data]   Unzipping corpora/treebank.zip.\n",
            "[nltk_data] Downloading package stopwords to /root/nltk_data...\n",
            "[nltk_data]   Unzipping corpora/stopwords.zip.\n",
            "[nltk_data] Downloading package punkt to /root/nltk_data...\n",
            "[nltk_data]   Unzipping tokenizers/punkt.zip.\n"
          ],
          "name": "stdout"
        },
        {
          "output_type": "execute_result",
          "data": {
            "text/plain": [
              "True"
            ]
          },
          "metadata": {
            "tags": []
          },
          "execution_count": 1
        }
      ]
    },
    {
      "metadata": {
        "id": "8NKHOx0fwEPG",
        "colab_type": "code",
        "outputId": "5ba4f7a4-0c99-4275-cf58-4ef3aa7088f6",
        "colab": {
          "base_uri": "https://localhost:8080/",
          "height": 306
        }
      },
      "cell_type": "code",
      "source": [
        "!pip install python-crfsuite\n",
        "!pip install pymorphy2\n",
        "!pip3 install sklearn-crfsuite"
      ],
      "execution_count": 2,
      "outputs": [
        {
          "output_type": "stream",
          "text": [
            "Collecting python-crfsuite\n",
            "\u001b[?25l  Downloading https://files.pythonhosted.org/packages/2f/86/cfcd71edca9d25d3d331209a20f6314b6f3f134c29478f90559cee9ce091/python_crfsuite-0.9.6-cp36-cp36m-manylinux1_x86_64.whl (754kB)\n",
            "\u001b[K    100% |████████████████████████████████| 757kB 20.8MB/s \n",
            "\u001b[?25hInstalling collected packages: python-crfsuite\n",
            "Successfully installed python-crfsuite-0.9.6\n",
            "Collecting pymorphy2\n",
            "\u001b[?25l  Downloading https://files.pythonhosted.org/packages/a3/33/fff9675c68b5f6c63ec8c6e6ff57827dda28a1fa5b2c2d727dffff92dd47/pymorphy2-0.8-py2.py3-none-any.whl (46kB)\n",
            "\u001b[K    100% |████████████████████████████████| 51kB 2.5MB/s \n",
            "\u001b[?25hCollecting dawg-python>=0.7 (from pymorphy2)\n",
            "  Downloading https://files.pythonhosted.org/packages/6a/84/ff1ce2071d4c650ec85745766c0047ccc3b5036f1d03559fd46bb38b5eeb/DAWG_Python-0.7.2-py2.py3-none-any.whl\n",
            "Collecting pymorphy2-dicts<3.0,>=2.4 (from pymorphy2)\n",
            "\u001b[?25l  Downloading https://files.pythonhosted.org/packages/02/51/2465fd4f72328ab50877b54777764d928da8cb15b74e2680fc1bd8cb3173/pymorphy2_dicts-2.4.393442.3710985-py2.py3-none-any.whl (7.1MB)\n",
            "\u001b[K    100% |████████████████████████████████| 7.1MB 6.1MB/s \n",
            "\u001b[?25hRequirement already satisfied: docopt>=0.6 in /usr/local/lib/python3.6/dist-packages (from pymorphy2) (0.6.2)\n",
            "Installing collected packages: dawg-python, pymorphy2-dicts, pymorphy2\n",
            "Successfully installed dawg-python-0.7.2 pymorphy2-0.8 pymorphy2-dicts-2.4.393442.3710985\n"
          ],
          "name": "stdout"
        }
      ]
    },
    {
      "metadata": {
        "id": "2KgvFYEIwzue",
        "colab_type": "code",
        "outputId": "e77a0a6e-676b-4e0b-ca5f-05396a4553dd",
        "colab": {
          "base_uri": "https://localhost:8080/",
          "height": 84
        }
      },
      "cell_type": "code",
      "source": [
        "!pip3 install rusenttokenize"
      ],
      "execution_count": 3,
      "outputs": [
        {
          "output_type": "stream",
          "text": [
            "Collecting rusenttokenize\n",
            "  Downloading https://files.pythonhosted.org/packages/25/4c/a2f00be5def774a3df2e5387145f1cb54e324607ec4a7e23f573645946e7/rusenttokenize-0.0.5-py3-none-any.whl\n",
            "Installing collected packages: rusenttokenize\n",
            "Successfully installed rusenttokenize-0.0.5\n"
          ],
          "name": "stdout"
        }
      ]
    },
    {
      "metadata": {
        "id": "ehIHYotlwUPG",
        "colab_type": "text"
      },
      "cell_type": "markdown",
      "source": [
        "### Load data"
      ]
    },
    {
      "metadata": {
        "id": "2TXQkgW1wKK2",
        "colab_type": "code",
        "outputId": "44fc12f4-ea03-427e-9ec5-b25b047c84c3",
        "colab": {
          "base_uri": "https://localhost:8080/",
          "height": 386
        }
      },
      "cell_type": "code",
      "source": [
        "!wget -O negative.txt https://raw.githubusercontent.com/king-menin/nlp-hse-winter2018/master/lecture%201.%20intro%20to%20nlp/negative.txt\n",
        "!wget -O positive.txt https://raw.githubusercontent.com/king-menin/nlp-hse-winter2018/master/lecture%201.%20intro%20to%20nlp/positive.txt"
      ],
      "execution_count": 4,
      "outputs": [
        {
          "output_type": "stream",
          "text": [
            "--2019-01-21 13:44:10--  https://raw.githubusercontent.com/king-menin/nlp-hse-winter2018/master/lecture%201.%20intro%20to%20nlp/negative.txt\n",
            "Resolving raw.githubusercontent.com (raw.githubusercontent.com)... 151.101.0.133, 151.101.64.133, 151.101.128.133, ...\n",
            "Connecting to raw.githubusercontent.com (raw.githubusercontent.com)|151.101.0.133|:443... connected.\n",
            "HTTP request sent, awaiting response... 200 OK\n",
            "Length: 637742 (623K) [text/plain]\n",
            "Saving to: ‘negative.txt’\n",
            "\n",
            "\rnegative.txt          0%[                    ]       0  --.-KB/s               \rnegative.txt        100%[===================>] 622.79K  --.-KB/s    in 0.05s   \n",
            "\n",
            "2019-01-21 13:44:10 (12.2 MB/s) - ‘negative.txt’ saved [637742/637742]\n",
            "\n",
            "--2019-01-21 13:44:11--  https://raw.githubusercontent.com/king-menin/nlp-hse-winter2018/master/lecture%201.%20intro%20to%20nlp/positive.txt\n",
            "Resolving raw.githubusercontent.com (raw.githubusercontent.com)... 151.101.0.133, 151.101.64.133, 151.101.128.133, ...\n",
            "Connecting to raw.githubusercontent.com (raw.githubusercontent.com)|151.101.0.133|:443... connected.\n",
            "HTTP request sent, awaiting response... 200 OK\n",
            "Length: 680078 (664K) [text/plain]\n",
            "Saving to: ‘positive.txt’\n",
            "\n",
            "positive.txt        100%[===================>] 664.14K  --.-KB/s    in 0.05s   \n",
            "\n",
            "2019-01-21 13:44:12 (12.6 MB/s) - ‘positive.txt’ saved [680078/680078]\n",
            "\n"
          ],
          "name": "stdout"
        }
      ]
    },
    {
      "metadata": {
        "id": "5aaFklgSwi1j",
        "colab_type": "code",
        "outputId": "c4e1f10a-ad9f-4ec4-9696-43e0c13e58ce",
        "colab": {
          "base_uri": "https://localhost:8080/",
          "height": 34
        }
      },
      "cell_type": "code",
      "source": [
        "!ls"
      ],
      "execution_count": 5,
      "outputs": [
        {
          "output_type": "stream",
          "text": [
            "negative.txt  positive.txt  sample_data\n"
          ],
          "name": "stdout"
        }
      ]
    },
    {
      "metadata": {
        "id": "ts34aCHbvvYC",
        "colab_type": "text"
      },
      "cell_type": "markdown",
      "source": [
        "# Часть 1. Предобработка текста и классификация"
      ]
    },
    {
      "metadata": {
        "id": "PkWsuQYuvvYE",
        "colab_type": "code",
        "colab": {}
      },
      "cell_type": "code",
      "source": [
        "import warnings\n",
        "warnings.filterwarnings('ignore')\n",
        "\n",
        "\n",
        "import numpy as np\n",
        "np.random.seed(1)"
      ],
      "execution_count": 0,
      "outputs": []
    },
    {
      "metadata": {
        "id": "3eNYvNQbvvYJ",
        "colab_type": "text"
      },
      "cell_type": "markdown",
      "source": [
        "## 1.1 Прочитайте текст в файлах positive.txt и negative.txt"
      ]
    },
    {
      "metadata": {
        "id": "ciP1LQ05vvYK",
        "colab_type": "code",
        "colab": {}
      },
      "cell_type": "code",
      "source": [
        "with open(\"positive.txt\", \"r\", encoding=\"utf-8\") as file:\n",
        "    positive_plain = file.read()\n",
        "\n",
        "with open(\"negative.txt\", \"r\", encoding=\"utf-8\") as file:\n",
        "    negative_plain = file.read()"
      ],
      "execution_count": 0,
      "outputs": []
    },
    {
      "metadata": {
        "id": "VC9hBIg6vvYO",
        "colab_type": "code",
        "outputId": "7ce60b41-1f75-4cc7-c80a-6de79044b88e",
        "colab": {
          "base_uri": "https://localhost:8080/",
          "height": 121
        }
      },
      "cell_type": "code",
      "source": [
        "print(positive_plain[:400], negative_plain[:400], sep=\"\\n\\n\")"
      ],
      "execution_count": 8,
      "outputs": [
        {
          "output_type": "stream",
          "text": [
            "@first_timee хоть я и школота, но поверь, у нас то же самое :D общество профилирующий предмет типа). Да, все-таки он немного похож на него Но мой мальчик все равно лучше:D. RT @KatiaCheh: Ну ты идиотка) я испугалась за тебя!!!. RT @digger2912: \"Кто то в углу сидит и погибает от голода, а мы ещё 2 порции взяли, хотя уже и так жрать не хотим\" :DD . @irina_dyshkant Вот что значит страшилка :D\n",
            "\n",
            "Но бли\n",
            "\n",
            "на работе был полный пиддес :| и так каждое закрытие месяца, я же свихнусь так D:. Коллеги сидят рубятся в Urban terror, а я из-за долбанной винды не могу :(. @elina_4post как говорят обещаного три года ждут((. Желаю хорошего полёта и удачной посадки,я буду очень сильно скучать( . Обновил за каким-то лешим surf, теперь не работает простоплеер :(. Котёнка вчера носик разбила, плакала и расстраивала\n"
          ],
          "name": "stdout"
        }
      ]
    },
    {
      "metadata": {
        "id": "XIbhjOCivvYR",
        "colab_type": "text"
      },
      "cell_type": "markdown",
      "source": [
        "## 1.2. Разбейте данные на предложения\n",
        "\n",
        "Для токенизации используйте nltk.sent_tokenize. чтобы удалить имен пользователей из сообщений напишите регулярное выражение.\n",
        "\n",
        "<b>Классы символов в регулярных выражениях</b>:\n",
        "\n",
        "[A-Z] – символы верхнего регистра (латиница)\n",
        "\n",
        "[a-z] – символы нижнего регистра (латиница)\n",
        "\n",
        "[А-Я] – символы верхнего регистра (кириллица)\n",
        "\n",
        "[а-я] – символы нижнего регистра (кириллица)\n",
        "\n",
        "[0-9] или \\d – цифра\n",
        "\n",
        "[^0-9] или \\D – любой символ, кроме цифры\n",
        "\n",
        ". – Один любой символ, кроме новой строки \\n.\n",
        "\n",
        "? – 0 или 1 вхождение шаблона слева\n",
        "\n",
        "\\+ – 1 и более вхождений шаблона слева\n",
        "\n",
        "\\* – 0 и более вхождений шаблона слева\n",
        "\n",
        "\\w – Любая цифра или буква (\\W — все, кроме буквы или цифры)\n",
        "\n",
        "\\d – Любая цифра [0-9] (\\D — все, кроме цифры)\n",
        "\n",
        "\\s – Любой пробельный символ (\\S — любой непробельнй символ)\n",
        "\n",
        "\\b – Граница слова\n",
        "\n",
        "[..] – дин из символов в скобках ([^..] — любой символ, кроме тех, что в скобках)\n",
        "\n",
        "\\ – Экранирование специальных символов (\\. означает точку или \\+ — знак «плюс»)\n",
        "\n",
        "^ и $ – Начало и конец строки соответственно\n",
        "\n",
        "{n,m} – От n до m вхождений ({,m} — от 0 до m)\n",
        "\n",
        "a|b – Соответствует a или b\n",
        "\n",
        "() – Группирует выражение и возвращает найденный текст\n",
        "\n",
        "\\t, \\n, \\r – Символ табуляции, новой строки и возврата каретки соответственно"
      ]
    },
    {
      "metadata": {
        "id": "M3zNsGoceo8B",
        "colab_type": "code",
        "colab": {}
      },
      "cell_type": "code",
      "source": [
        "import string"
      ],
      "execution_count": 0,
      "outputs": []
    },
    {
      "metadata": {
        "id": "vNyoEngsfCiV",
        "colab_type": "code",
        "outputId": "5977d6fd-9ff1-4ac8-92e1-79cee3cf9c4d",
        "colab": {
          "base_uri": "https://localhost:8080/",
          "height": 34
        }
      },
      "cell_type": "code",
      "source": [
        "string.punctuation"
      ],
      "execution_count": 10,
      "outputs": [
        {
          "output_type": "execute_result",
          "data": {
            "text/plain": [
              "'!\"#$%&\\'()*+,-./:;<=>?@[\\\\]^_`{|}~'"
            ]
          },
          "metadata": {
            "tags": []
          },
          "execution_count": 10
        }
      ]
    },
    {
      "metadata": {
        "id": "dJuvsWrzvvYS",
        "colab_type": "code",
        "colab": {}
      },
      "cell_type": "code",
      "source": [
        "import re\n",
        "from nltk import sent_tokenize\n",
        "# from rusenttokenize import ru_sent_tokenize\n",
        "\n",
        "\n",
        "def split_data(text):\n",
        "    # Избавляемся от имен пользователей, указанных в письмах\n",
        "    name = <your code here>\n",
        "    res = name.sub(\"\", text)\n",
        "    # Удалите лишние переносы строк и разбейте на предложения по знаку \".\"\n",
        "    res = <your code here>\n",
        "    return res"
      ],
      "execution_count": 0,
      "outputs": []
    },
    {
      "metadata": {
        "id": "qtNrkhZSvvYW",
        "colab_type": "code",
        "colab": {}
      },
      "cell_type": "code",
      "source": [
        "positive = split_data(positive_plain)\n",
        "negative = split_data(negative_plain)"
      ],
      "execution_count": 0,
      "outputs": []
    },
    {
      "metadata": {
        "id": "xTjP6-YPfuAs",
        "colab_type": "code",
        "outputId": "01b00d7e-5903-40f6-b5b2-80e823fd6290",
        "colab": {
          "base_uri": "https://localhost:8080/",
          "height": 34
        }
      },
      "cell_type": "code",
      "source": [
        "print(positive[0])"
      ],
      "execution_count": 15,
      "outputs": [
        {
          "output_type": "stream",
          "text": [
            "хоть я и школота, но поверь, у нас то же самое :D общество профилирующий предмет типа).\n"
          ],
          "name": "stdout"
        }
      ]
    },
    {
      "metadata": {
        "id": "zsOC1wi_vvYZ",
        "colab_type": "code",
        "outputId": "6f535783-8844-48d7-fe00-a2c00ce6a5e9",
        "colab": {
          "base_uri": "https://localhost:8080/",
          "height": 34
        }
      },
      "cell_type": "code",
      "source": [
        "len(positive), len(negative)"
      ],
      "execution_count": 16,
      "outputs": [
        {
          "output_type": "execute_result",
          "data": {
            "text/plain": [
              "(5668, 5805)"
            ]
          },
          "metadata": {
            "tags": []
          },
          "execution_count": 16
        }
      ]
    },
    {
      "metadata": {
        "id": "JsNlbeq-vvYe",
        "colab_type": "code",
        "colab": {}
      },
      "cell_type": "code",
      "source": [
        "pos_labels = [1] * len(positive)"
      ],
      "execution_count": 0,
      "outputs": []
    },
    {
      "metadata": {
        "id": "eCMs3KvKvvYl",
        "colab_type": "code",
        "colab": {}
      },
      "cell_type": "code",
      "source": [
        "neg_labels = [0] * len(negative)"
      ],
      "execution_count": 0,
      "outputs": []
    },
    {
      "metadata": {
        "id": "7WzQG5S5vvYr",
        "colab_type": "text"
      },
      "cell_type": "markdown",
      "source": [
        "Объединим все в один список"
      ]
    },
    {
      "metadata": {
        "id": "29yy5BcNvvYt",
        "colab_type": "code",
        "colab": {}
      },
      "cell_type": "code",
      "source": [
        "all_text = positive + negative\n",
        "all_labels = pos_labels + neg_labels"
      ],
      "execution_count": 0,
      "outputs": []
    },
    {
      "metadata": {
        "id": "9TJKxGV2vvYy",
        "colab_type": "code",
        "outputId": "98d4c7a8-ff01-4cb2-db1c-1aadbd0e132d",
        "colab": {
          "base_uri": "https://localhost:8080/",
          "height": 34
        }
      },
      "cell_type": "code",
      "source": [
        "len(all_text)"
      ],
      "execution_count": 20,
      "outputs": [
        {
          "output_type": "execute_result",
          "data": {
            "text/plain": [
              "11473"
            ]
          },
          "metadata": {
            "tags": []
          },
          "execution_count": 20
        }
      ]
    },
    {
      "metadata": {
        "id": "cBqltsx5vvY2",
        "colab_type": "text"
      },
      "cell_type": "markdown",
      "source": [
        "## 1.3. Удалите пустые строки, если они есть"
      ]
    },
    {
      "metadata": {
        "id": "EbUeXBBDvvY4",
        "colab_type": "code",
        "colab": {}
      },
      "cell_type": "code",
      "source": [
        "all_text_ = []\n",
        "all_labels_ = []\n",
        "\n",
        "for text, label in zip(all_text, all_labels):\n",
        "  if len(text) > 1:\n",
        "    all_text_.append(text)\n",
        "    all_labels_.append(label)\n",
        "\n",
        "all_text = all_text_\n",
        "all_labels = all_labels_"
      ],
      "execution_count": 0,
      "outputs": []
    },
    {
      "metadata": {
        "id": "-_3tbIdivvY8",
        "colab_type": "text"
      },
      "cell_type": "markdown",
      "source": [
        "## 1. 4. Предварительный анализ коллекции"
      ]
    },
    {
      "metadata": {
        "id": "mlS8hTPqvvY9",
        "colab_type": "text"
      },
      "cell_type": "markdown",
      "source": [
        "#### Средняя длина предложений"
      ]
    },
    {
      "metadata": {
        "id": "JtEAowcevvY-",
        "colab_type": "code",
        "colab": {}
      },
      "cell_type": "code",
      "source": [
        "import pandas as pd"
      ],
      "execution_count": 0,
      "outputs": []
    },
    {
      "metadata": {
        "id": "m3i_Wpk-vvZB",
        "colab_type": "code",
        "colab": {}
      },
      "cell_type": "code",
      "source": [
        "df = pd.DataFrame(all_text)"
      ],
      "execution_count": 0,
      "outputs": []
    },
    {
      "metadata": {
        "id": "C_Z2QBHxvvZF",
        "colab_type": "code",
        "colab": {}
      },
      "cell_type": "code",
      "source": [
        "len_data = df[0].apply(len)"
      ],
      "execution_count": 0,
      "outputs": []
    },
    {
      "metadata": {
        "id": "43u7a996vvZL",
        "colab_type": "code",
        "outputId": "844b35e8-18c2-4707-d24e-a1d6d5b9bcdc",
        "colab": {
          "base_uri": "https://localhost:8080/",
          "height": 168
        }
      },
      "cell_type": "code",
      "source": [
        "len_data.describe()"
      ],
      "execution_count": 25,
      "outputs": [
        {
          "output_type": "execute_result",
          "data": {
            "text/plain": [
              "count    11392.000000\n",
              "mean        61.223227\n",
              "std         35.801275\n",
              "min          2.000000\n",
              "25%         37.000000\n",
              "50%         55.000000\n",
              "75%         81.000000\n",
              "max        375.000000\n",
              "Name: 0, dtype: float64"
            ]
          },
          "metadata": {
            "tags": []
          },
          "execution_count": 25
        }
      ]
    },
    {
      "metadata": {
        "id": "-8rZeQZGvvZR",
        "colab_type": "text"
      },
      "cell_type": "markdown",
      "source": [
        "#### Длины текстов в символах"
      ]
    },
    {
      "metadata": {
        "id": "6auEQwoDvvZT",
        "colab_type": "code",
        "outputId": "10fb956e-57e7-4fce-d2ed-1cedd46b9ce6",
        "colab": {
          "base_uri": "https://localhost:8080/",
          "height": 34
        }
      },
      "cell_type": "code",
      "source": [
        "import matplotlib.pyplot as plt\n",
        "\n",
        "%pylab inline"
      ],
      "execution_count": 26,
      "outputs": [
        {
          "output_type": "stream",
          "text": [
            "Populating the interactive namespace from numpy and matplotlib\n"
          ],
          "name": "stdout"
        }
      ]
    },
    {
      "metadata": {
        "id": "ZYVrcdEdvvZW",
        "colab_type": "code",
        "outputId": "abaf6cdb-82c7-4c08-c499-b4cfc8f9ba7c",
        "colab": {
          "base_uri": "https://localhost:8080/",
          "height": 265
        }
      },
      "cell_type": "code",
      "source": [
        "fig, ax = plt.subplots()\n",
        "\n",
        "n, bins, patches = ax.hist(len_data.tolist())\n",
        "\n",
        "fig.show()"
      ],
      "execution_count": 27,
      "outputs": [
        {
          "output_type": "display_data",
          "data": {
            "image/png": "[encoded data removed]",
            "text/plain": [
              "<Figure size 432x288 with 1 Axes>"
            ]
          },
          "metadata": {
            "tags": []
          }
        }
      ]
    },
    {
      "metadata": {
        "id": "VvSdL8aUvvZZ",
        "colab_type": "text"
      },
      "cell_type": "markdown",
      "source": [
        "#### Самые частые слова"
      ]
    },
    {
      "metadata": {
        "id": "FgphvxdPvvZZ",
        "colab_type": "text"
      },
      "cell_type": "markdown",
      "source": [
        "Токенизируйте предложения на слова (nltk.word_tokenize)"
      ]
    },
    {
      "metadata": {
        "id": "AgyHHrIfvvZa",
        "colab_type": "code",
        "colab": {}
      },
      "cell_type": "code",
      "source": [
        "from nltk import word_tokenize\n",
        "\n",
        "\n",
        "all_text = [word_tokenize(line) for line in all_text]"
      ],
      "execution_count": 0,
      "outputs": []
    },
    {
      "metadata": {
        "id": "xn_zXzuPvvZe",
        "colab_type": "code",
        "outputId": "d99170c5-fce8-4058-d330-957d9fb37bfb",
        "colab": {
          "base_uri": "https://localhost:8080/",
          "height": 185
        }
      },
      "cell_type": "code",
      "source": [
        "from nltk import FreqDist\n",
        "\n",
        "\n",
        "n_types = []\n",
        "n_tokens = []\n",
        "fd = FreqDist()\n",
        "for line in all_text:\n",
        "    fd.update(line)\n",
        "    n_types.append(len(fd))\n",
        "    n_tokens.append(sum(list(fd.values())))\n",
        "for i in fd.most_common(10):\n",
        "    print(i)"
      ],
      "execution_count": 29,
      "outputs": [
        {
          "output_type": "stream",
          "text": [
            "('.', 9363)\n",
            "('(', 9258)\n",
            "(')', 8718)\n",
            "(',', 8268)\n",
            "(':', 4719)\n",
            "('не', 3023)\n",
            "('!', 2897)\n",
            "('и', 2387)\n",
            "('в', 2329)\n",
            "('я', 2322)\n"
          ],
          "name": "stdout"
        }
      ]
    },
    {
      "metadata": {
        "id": "TtUzN568vvZh",
        "colab_type": "text"
      },
      "cell_type": "markdown",
      "source": [
        "#### Закон Ципфа\n",
        "\n",
        "В любом достаточно большом тексте ранг типа обратно пропорционален его частоте: f=a/r\n",
        "\n",
        "f – частота типа, r – ранг типа, a – параметр, для славянских языков – около 0.07"
      ]
    },
    {
      "metadata": {
        "id": "I8Y-ICsDvvZi",
        "colab_type": "code",
        "colab": {
          "base_uri": "https://localhost:8080/",
          "height": 265
        },
        "outputId": "2fbc27b6-027a-469e-da73-befecb6f272e"
      },
      "cell_type": "code",
      "source": [
        "freqs = list(fd.values())\n",
        "freqs = sorted(freqs, reverse = True)\n",
        "\n",
        "fig, ax = plt.subplots()\n",
        "ax.plot(freqs[:300], range(300))\n",
        "plt.show()"
      ],
      "execution_count": 30,
      "outputs": [
        {
          "output_type": "display_data",
          "data": {
            "image/png": "[encoded data removed]",
            "text/plain": [
              "<Figure size 432x288 with 1 Axes>"
            ]
          },
          "metadata": {
            "tags": []
          }
        }
      ]
    },
    {
      "metadata": {
        "id": "Md-yj35CvvZl",
        "colab_type": "text"
      },
      "cell_type": "markdown",
      "source": [
        "#### Закон Хипса\n",
        "\n",
        "С увеличением длины текста (количества токенов), количество типов увеличивается в соответствии с законом: |V|=K∗N^b\n",
        "\n",
        "N – число токенов, |V| – количество типов в словаре, K,b – параметры, обычно K∈[10,100],b∈[0.4,0.6]"
      ]
    },
    {
      "metadata": {
        "id": "NJ3vnrl9vvZm",
        "colab_type": "code",
        "outputId": "107f17b9-e41c-45dc-c1a1-5f9d25779ee7",
        "colab": {
          "base_uri": "https://localhost:8080/",
          "height": 265
        }
      },
      "cell_type": "code",
      "source": [
        "fig, ax = plt.subplots()\n",
        "ax.plot(n_types, n_tokens)\n",
        "plt.show()"
      ],
      "execution_count": 31,
      "outputs": [
        {
          "output_type": "display_data",
          "data": {
            "image/png": "[encoded data removed]",
            "text/plain": [
              "<Figure size 432x288 with 1 Axes>"
            ]
          },
          "metadata": {
            "tags": []
          }
        }
      ]
    },
    {
      "metadata": {
        "id": "fRHiJz0ZvvZp",
        "colab_type": "text"
      },
      "cell_type": "markdown",
      "source": [
        "## 1.5. Подготовим данные для nltk.NaiveBayesClassifier\n",
        "\n",
        "Классификатор принимает данные о предложении в виде словаря {\"слово\": #количество встреч в предожении}\n",
        "\n",
        "Используйсте Counter. Пример работы:\n",
        "\n",
        "`Counter('abracadabra')`\n",
        "\n",
        ">Counter({'a': 5, 'b': 2, 'c': 1, 'd': 1, 'r': 2})"
      ]
    },
    {
      "metadata": {
        "id": "8KvwGb86vvZq",
        "colab_type": "code",
        "colab": {}
      },
      "cell_type": "code",
      "source": [
        "from collections import Counter"
      ],
      "execution_count": 0,
      "outputs": []
    },
    {
      "metadata": {
        "id": "Lq7hs2GTeV3N",
        "colab_type": "code",
        "outputId": "5bcdcc9e-0997-4703-a385-703da56c30ba",
        "colab": {
          "base_uri": "https://localhost:8080/",
          "height": 34
        }
      },
      "cell_type": "code",
      "source": [
        "print(all_text[0])"
      ],
      "execution_count": 33,
      "outputs": [
        {
          "output_type": "stream",
          "text": [
            "['хоть', 'я', 'и', 'школота', ',', 'но', 'поверь', ',', 'у', 'нас', 'то', 'же', 'самое', ':', 'D', 'общество', 'профилирующий', 'предмет', 'типа', ')', '.']\n"
          ],
          "name": "stdout"
        }
      ]
    },
    {
      "metadata": {
        "id": "vq4w7qLnvvZu",
        "colab_type": "code",
        "outputId": "bb63c6c0-78e7-4e9c-b506-b64e792be916",
        "colab": {
          "base_uri": "https://localhost:8080/",
          "height": 54
        }
      },
      "cell_type": "code",
      "source": [
        "all_text = <your code here>\n",
        "print(all_text[0])"
      ],
      "execution_count": 34,
      "outputs": [
        {
          "output_type": "stream",
          "text": [
            "Counter({',': 2, 'хоть': 1, 'я': 1, 'и': 1, 'школота': 1, 'но': 1, 'поверь': 1, 'у': 1, 'нас': 1, 'то': 1, 'же': 1, 'самое': 1, ':': 1, 'D': 1, 'общество': 1, 'профилирующий': 1, 'предмет': 1, 'типа': 1, ')': 1, '.': 1})\n"
          ],
          "name": "stdout"
        }
      ]
    },
    {
      "metadata": {
        "id": "c-A0O3VSvvZw",
        "colab_type": "text"
      },
      "cell_type": "markdown",
      "source": [
        "## 1.6. Обучим модель"
      ]
    },
    {
      "metadata": {
        "id": "TnUuD70SvvZx",
        "colab_type": "code",
        "colab": {}
      },
      "cell_type": "code",
      "source": [
        "from sklearn.metrics import accuracy_score\n",
        "from nltk import NaiveBayesClassifier\n",
        "from sklearn.model_selection import train_test_split"
      ],
      "execution_count": 0,
      "outputs": []
    },
    {
      "metadata": {
        "id": "pKhbG5ntvvZ2",
        "colab_type": "code",
        "colab": {}
      },
      "cell_type": "code",
      "source": [
        "train_indecies, test_indecies = train_test_split(np.arange(len(all_text)), test_size=0.3, random_state=1)"
      ],
      "execution_count": 0,
      "outputs": []
    },
    {
      "metadata": {
        "id": "Wljy2QcNvvZ7",
        "colab_type": "code",
        "colab": {}
      },
      "cell_type": "code",
      "source": [
        "all_text = np.array(all_text)\n",
        "all_labels = np.array(all_labels)\n",
        "\n",
        "X_train, X_test = all_text[train_indecies], all_text[test_indecies]\n",
        "y_train, y_test = all_labels[train_indecies], all_labels[test_indecies]"
      ],
      "execution_count": 0,
      "outputs": []
    },
    {
      "metadata": {
        "id": "IlsV8jltvvZ-",
        "colab_type": "code",
        "colab": {}
      },
      "cell_type": "code",
      "source": [
        "clf = NaiveBayesClassifier.train(zip(X_train, y_train))"
      ],
      "execution_count": 0,
      "outputs": []
    },
    {
      "metadata": {
        "id": "_J6R5jzkvvaC",
        "colab_type": "text"
      },
      "cell_type": "markdown",
      "source": [
        "### Протестируем качество классификации"
      ]
    },
    {
      "metadata": {
        "id": "HyepqQpOvvaD",
        "colab_type": "code",
        "outputId": "317b9f6e-4cad-44f7-a047-1d3ef0ea97d5",
        "colab": {
          "base_uri": "https://localhost:8080/",
          "height": 34
        }
      },
      "cell_type": "code",
      "source": [
        "pred = clf.classify_many(X_test)\n",
        "accuracy_score(y_test, pred)"
      ],
      "execution_count": 39,
      "outputs": [
        {
          "output_type": "execute_result",
          "data": {
            "text/plain": [
              "0.9218841427735518"
            ]
          },
          "metadata": {
            "tags": []
          },
          "execution_count": 39
        }
      ]
    },
    {
      "metadata": {
        "id": "DgSCJTaWvvaG",
        "colab_type": "text"
      },
      "cell_type": "markdown",
      "source": [
        "## 1.7. Добавим признаков\n",
        "\n",
        "Для каждого примера добавим количество частей речи в нем. Если мы встретили знак пунктуации, то обозначим его как 'PNCT'."
      ]
    },
    {
      "metadata": {
        "id": "yAm6akUXvvaH",
        "colab_type": "code",
        "colab": {}
      },
      "cell_type": "code",
      "source": [
        "import pymorphy2"
      ],
      "execution_count": 0,
      "outputs": []
    },
    {
      "metadata": {
        "id": "PD6COBuFvvaJ",
        "colab_type": "code",
        "colab": {}
      },
      "cell_type": "code",
      "source": [
        "morph = pymorphy2.analyzer.MorphAnalyzer()"
      ],
      "execution_count": 0,
      "outputs": []
    },
    {
      "metadata": {
        "id": "PUAs-BayhjOS",
        "colab_type": "code",
        "colab": {}
      },
      "cell_type": "code",
      "source": [
        "morph.parse(\".\")[0].tag.POS"
      ],
      "execution_count": 0,
      "outputs": []
    },
    {
      "metadata": {
        "id": "p5qgTgwLvvaM",
        "colab_type": "text"
      },
      "cell_type": "markdown",
      "source": [
        "Используйте pymorphy2.analyzer.MorphAnalyzer.parse"
      ]
    },
    {
      "metadata": {
        "id": "LIoFq5sHvvaN",
        "colab_type": "code",
        "colab": {}
      },
      "cell_type": "code",
      "source": [
        "all_text_with_pos = []\n",
        "for sample in all_text:\n",
        "    update = Counter(sample)\n",
        "    for word, count in sample.items():\n",
        "        <your code here>\n",
        "        update.update({<your code here>})\n",
        "    all_text_with_pos.append(update)"
      ],
      "execution_count": 0,
      "outputs": []
    },
    {
      "metadata": {
        "id": "m8sm-_0LvvaR",
        "colab_type": "code",
        "colab": {}
      },
      "cell_type": "code",
      "source": [
        "all_text_with_pos = np.array(all_text_with_pos)\n",
        "all_labels = np.array(all_labels)\n",
        "\n",
        "X_train, X_test = all_text_with_pos[train_indecies], all_text_with_pos[test_indecies]\n",
        "y_train, y_test = all_labels[train_indecies], all_labels[test_indecies]"
      ],
      "execution_count": 0,
      "outputs": []
    },
    {
      "metadata": {
        "id": "91QLaDP5vvaa",
        "colab_type": "code",
        "colab": {}
      },
      "cell_type": "code",
      "source": [
        "clf = NaiveBayesClassifier.train(zip(X_train, y_train))"
      ],
      "execution_count": 0,
      "outputs": []
    },
    {
      "metadata": {
        "id": "q_ML96Dlvvae",
        "colab_type": "code",
        "outputId": "b56492bf-5027-4fcb-b0ac-0bd20e6ace3b",
        "colab": {
          "base_uri": "https://localhost:8080/",
          "height": 34
        }
      },
      "cell_type": "code",
      "source": [
        "pred = clf.classify_many(X_test)\n",
        "accuracy_score(y_test, pred)"
      ],
      "execution_count": 46,
      "outputs": [
        {
          "output_type": "execute_result",
          "data": {
            "text/plain": [
              "0.9204212990052663"
            ]
          },
          "metadata": {
            "tags": []
          },
          "execution_count": 46
        }
      ]
    },
    {
      "metadata": {
        "id": "1M_XNR_Uvvai",
        "colab_type": "text"
      },
      "cell_type": "markdown",
      "source": [
        "### Попробуем лемматизировать слова\n",
        "\n",
        "Обучите тот же классификатор но на примерах, где все слова в нормальной форме."
      ]
    },
    {
      "metadata": {
        "id": "D__e3BVMvval",
        "colab_type": "code",
        "colab": {}
      },
      "cell_type": "code",
      "source": [
        "all_text_with_pos = []\n",
        "for sample in all_text:\n",
        "    update = Counter()\n",
        "    for word, count in sample.items():\n",
        "        <your code here>\n",
        "        update.update({<your code here>})\n",
        "    all_text_with_pos.append(update)"
      ],
      "execution_count": 0,
      "outputs": []
    },
    {
      "metadata": {
        "id": "FbtMzYw3vvas",
        "colab_type": "code",
        "colab": {}
      },
      "cell_type": "code",
      "source": [
        "all_text_with_pos = np.array(all_text_with_pos)\n",
        "all_labels = np.array(all_labels)\n",
        "\n",
        "X_train, X_test = all_text_with_pos[train_indecies], all_text_with_pos[test_indecies]\n",
        "y_train, y_test = all_labels[train_indecies], all_labels[test_indecies]"
      ],
      "execution_count": 0,
      "outputs": []
    },
    {
      "metadata": {
        "id": "9NN2ozbNvvaw",
        "colab_type": "code",
        "outputId": "897a67ab-4f7d-48af-b1c2-9ed118b86f20",
        "colab": {
          "base_uri": "https://localhost:8080/",
          "height": 34
        }
      },
      "cell_type": "code",
      "source": [
        "clf = NaiveBayesClassifier.train(zip(X_train, y_train))\n",
        "\n",
        "pred = clf.classify_many(X_test)\n",
        "accuracy_score(y_test, pred)"
      ],
      "execution_count": 49,
      "outputs": [
        {
          "output_type": "execute_result",
          "data": {
            "text/plain": [
              "0.9245172615564657"
            ]
          },
          "metadata": {
            "tags": []
          },
          "execution_count": 49
        }
      ]
    },
    {
      "metadata": {
        "id": "laHZHIwSvvay",
        "colab_type": "text"
      },
      "cell_type": "markdown",
      "source": [
        "### Удалим стоп-слова"
      ]
    },
    {
      "metadata": {
        "id": "093KonqIvvay",
        "colab_type": "code",
        "colab": {}
      },
      "cell_type": "code",
      "source": [
        "from nltk.corpus import stopwords\n",
        "\n",
        "stops = stopwords.words(\"russian\")"
      ],
      "execution_count": 0,
      "outputs": []
    },
    {
      "metadata": {
        "id": "sT9mEW9Bvva2",
        "colab_type": "code",
        "colab": {}
      },
      "cell_type": "code",
      "source": [
        "all_text_without_stops = []\n",
        "for sample in all_text:\n",
        "    update = Counter()\n",
        "    for word, count in sample.items():\n",
        "        <your code here>\n",
        "    all_text_without_stops.append(update)"
      ],
      "execution_count": 0,
      "outputs": []
    },
    {
      "metadata": {
        "id": "biC3D2F6vva3",
        "colab_type": "code",
        "colab": {}
      },
      "cell_type": "code",
      "source": [
        "all_text_without_stops = np.array(all_text_without_stops)\n",
        "all_labels = np.array(all_labels)\n",
        "\n",
        "X_train, X_test = all_text_without_stops[train_indecies], all_text_without_stops[test_indecies]\n",
        "y_train, y_test = all_labels[train_indecies], all_labels[test_indecies]"
      ],
      "execution_count": 0,
      "outputs": []
    },
    {
      "metadata": {
        "id": "3gbJ-n0avva8",
        "colab_type": "code",
        "outputId": "c510c9c1-285f-4b40-b654-bb86f6cad80a",
        "colab": {
          "base_uri": "https://localhost:8080/",
          "height": 34
        }
      },
      "cell_type": "code",
      "source": [
        "clf = NaiveBayesClassifier.train(zip(X_train, y_train))\n",
        "\n",
        "pred = clf.classify_many(X_test)\n",
        "accuracy_score(y_test, pred)"
      ],
      "execution_count": 53,
      "outputs": [
        {
          "output_type": "execute_result",
          "data": {
            "text/plain": [
              "0.9212990052662375"
            ]
          },
          "metadata": {
            "tags": []
          },
          "execution_count": 53
        }
      ]
    },
    {
      "metadata": {
        "id": "YgDAG726vvbA",
        "colab_type": "text"
      },
      "cell_type": "markdown",
      "source": [
        "### Как менялось качество? Почему?"
      ]
    },
    {
      "metadata": {
        "id": "SOX6TuoRvvbB",
        "colab_type": "code",
        "colab": {}
      },
      "cell_type": "code",
      "source": [
        "<your answer here>"
      ],
      "execution_count": 0,
      "outputs": []
    },
    {
      "metadata": {
        "id": "ccToX2lFvvbD",
        "colab_type": "text"
      },
      "cell_type": "markdown",
      "source": [
        "# Часть 2. Использование знаний морфологии для генерации текста\n",
        "\n",
        "Задание: написать шаблон вида: {person} {action} {count} {target}. Где\n",
        "\n",
        "Person - лицо которое выполняет действие action. Каждое такое действие может быть в трех временах (настоящее, прошедшее и будущее). Действие выполняется с целью target. Такая цель - это некоторый объект или объекты числом count. count>0.\n",
        "\n",
        "Используйте make_agree_with_number, parse и inflect из библиотеки pymorphy2.\n",
        "\n",
        "Времена глаголов в документации pymorphy2: past (прошедшее), pres (настоящее), futr (будущее)."
      ]
    },
    {
      "metadata": {
        "id": "Nihun42HvvbG",
        "colab_type": "code",
        "colab": {}
      },
      "cell_type": "code",
      "source": [
        "import pymorphy2\n",
        "morph = pymorphy2.analyzer.MorphAnalyzer()"
      ],
      "execution_count": 0,
      "outputs": []
    },
    {
      "metadata": {
        "id": "uxIwtPVfvvbJ",
        "colab_type": "text"
      },
      "cell_type": "markdown",
      "source": [
        "Согласование существительного с числом."
      ]
    },
    {
      "metadata": {
        "id": "W9riKoiZvvbK",
        "colab_type": "code",
        "outputId": "4e1fb60b-eed8-49dc-8205-823195ebee03",
        "colab": {
          "base_uri": "https://localhost:8080/",
          "height": 54
        }
      },
      "cell_type": "code",
      "source": [
        "butyavka = morph.parse(\"бутявка\")[0]\n",
        "butyavka.make_agree_with_number(2)"
      ],
      "execution_count": 55,
      "outputs": [
        {
          "output_type": "execute_result",
          "data": {
            "text/plain": [
              "Parse(word='бутявки', tag=OpencorporaTag('NOUN,inan,femn sing,gent'), normal_form='бутявка', score=1.0, methods_stack=((<DictionaryAnalyzer>, 'явки', 8, 1), (<UnknownPrefixAnalyzer>, 'бут')))"
            ]
          },
          "metadata": {
            "tags": []
          },
          "execution_count": 55
        }
      ]
    },
    {
      "metadata": {
        "id": "0WNQ7rSmvvbQ",
        "colab_type": "text"
      },
      "cell_type": "markdown",
      "source": [
        "Чтобы поставить слово в нужную форму используется inflect"
      ]
    },
    {
      "metadata": {
        "id": "z7q4PIzOvvbQ",
        "colab_type": "code",
        "outputId": "d606e5f7-9720-4626-f100-f079b2750b00",
        "colab": {
          "base_uri": "https://localhost:8080/",
          "height": 54
        }
      },
      "cell_type": "code",
      "source": [
        "butyavka.inflect({'gent'})  # нет кого? (родительный падеж)"
      ],
      "execution_count": 56,
      "outputs": [
        {
          "output_type": "execute_result",
          "data": {
            "text/plain": [
              "Parse(word='бутявки', tag=OpencorporaTag('NOUN,inan,femn sing,gent'), normal_form='бутявка', score=1.0, methods_stack=((<DictionaryAnalyzer>, 'явки', 8, 1), (<UnknownPrefixAnalyzer>, 'бут')))"
            ]
          },
          "metadata": {
            "tags": []
          },
          "execution_count": 56
        }
      ]
    },
    {
      "metadata": {
        "id": "jPzshACSvvbT",
        "colab_type": "code",
        "outputId": "461a69d7-eb9c-4121-946b-e4b7facf9a70",
        "colab": {
          "base_uri": "https://localhost:8080/",
          "height": 54
        }
      },
      "cell_type": "code",
      "source": [
        "butyavka.inflect({'plur', 'gent'})"
      ],
      "execution_count": 57,
      "outputs": [
        {
          "output_type": "execute_result",
          "data": {
            "text/plain": [
              "Parse(word='бутявок', tag=OpencorporaTag('NOUN,inan,femn plur,gent'), normal_form='бутявка', score=1.0, methods_stack=((<DictionaryAnalyzer>, 'явок', 8, 8), (<UnknownPrefixAnalyzer>, 'бут')))"
            ]
          },
          "metadata": {
            "tags": []
          },
          "execution_count": 57
        }
      ]
    },
    {
      "metadata": {
        "id": "xzbq8YTkvvbW",
        "colab_type": "code",
        "colab": {}
      },
      "cell_type": "code",
      "source": [
        "def genarate(person, action, time, count, target):\n",
        "    # Поставьте action в нужное время\n",
        "    <your code here>\n",
        "    # Согласуйте target с числом\n",
        "    <your code here>\n",
        "    return <your code here>"
      ],
      "execution_count": 0,
      "outputs": []
    },
    {
      "metadata": {
        "id": "yRoHaFgvvvbY",
        "colab_type": "code",
        "outputId": "206393d6-b9b3-4abe-99b9-1f18ace54a9e",
        "colab": {
          "base_uri": "https://localhost:8080/",
          "height": 34
        }
      },
      "cell_type": "code",
      "source": [
        "genarate(\"Антон\", \"купить\", \"past\", 5, \"товар\")"
      ],
      "execution_count": 59,
      "outputs": [
        {
          "output_type": "execute_result",
          "data": {
            "text/plain": [
              "'Антон купил 5 товаров'"
            ]
          },
          "metadata": {
            "tags": []
          },
          "execution_count": 59
        }
      ]
    },
    {
      "metadata": {
        "id": "5KHXQoiFvvbb",
        "colab_type": "text"
      },
      "cell_type": "markdown",
      "source": [
        "# Часть 3. Статистические морфологические анализаторы"
      ]
    },
    {
      "metadata": {
        "id": "G6fyAUHDvvbd",
        "colab_type": "text"
      },
      "cell_type": "markdown",
      "source": [
        "## 3.1. Загрузим данные из nltk.treebank"
      ]
    },
    {
      "metadata": {
        "id": "GvFholLTvvbf",
        "colab_type": "code",
        "colab": {}
      },
      "cell_type": "code",
      "source": [
        "from nltk.corpus import treebank"
      ],
      "execution_count": 0,
      "outputs": []
    },
    {
      "metadata": {
        "id": "M5fWCn6vvvbh",
        "colab_type": "code",
        "colab": {}
      },
      "cell_type": "code",
      "source": [
        "sentences = treebank.tagged_sents()"
      ],
      "execution_count": 0,
      "outputs": []
    },
    {
      "metadata": {
        "id": "72ThBr28lPja",
        "colab_type": "code",
        "outputId": "75dd33f8-84b5-40ae-d71a-cc3225d521f9",
        "colab": {
          "base_uri": "https://localhost:8080/",
          "height": 54
        }
      },
      "cell_type": "code",
      "source": [
        "print(sentences[0])"
      ],
      "execution_count": 62,
      "outputs": [
        {
          "output_type": "stream",
          "text": [
            "[('Pierre', 'NNP'), ('Vinken', 'NNP'), (',', ','), ('61', 'CD'), ('years', 'NNS'), ('old', 'JJ'), (',', ','), ('will', 'MD'), ('join', 'VB'), ('the', 'DT'), ('board', 'NN'), ('as', 'IN'), ('a', 'DT'), ('nonexecutive', 'JJ'), ('director', 'NN'), ('Nov.', 'NNP'), ('29', 'CD'), ('.', '.')]\n"
          ],
          "name": "stdout"
        }
      ]
    },
    {
      "metadata": {
        "id": "zeXRcpaSvvbl",
        "colab_type": "text"
      },
      "cell_type": "markdown",
      "source": [
        "## 3.2. Выделим признаки"
      ]
    },
    {
      "metadata": {
        "id": "mftl9NY9vvbm",
        "colab_type": "code",
        "colab": {}
      },
      "cell_type": "code",
      "source": [
        "def features(sentence, index):\n",
        "    return {\n",
        "        'word': sentence[index],\n",
        "        'is_first': index == 0,\n",
        "        'is_last': index == len(sentence) - 1,\n",
        "        'prefix-1': sentence[index][0],\n",
        "        'prefix-2': sentence[index][:2],\n",
        "        'prefix-3': sentence[index][:3],\n",
        "        'suffix-1': sentence[index][-1],\n",
        "        'suffix-2': sentence[index][-2:],\n",
        "        'suffix-3': sentence[index][-3:],\n",
        "        'prev_word': '' if index == 0 else sentence[index - 1],\n",
        "        'next_word': '' if index == len(sentence) - 1 else sentence[index + 1],\n",
        "        'is_all_lower': sentence[index].islower(),\n",
        "        'is_first_cap': sentence[index][0].upper()\n",
        "    }"
      ],
      "execution_count": 0,
      "outputs": []
    },
    {
      "metadata": {
        "id": "CLfWfMl-vvbr",
        "colab_type": "code",
        "colab": {}
      },
      "cell_type": "code",
      "source": [
        "def untag(tagged_sentence):\n",
        "    return [w for w, t in tagged_sentence]"
      ],
      "execution_count": 0,
      "outputs": []
    },
    {
      "metadata": {
        "id": "Ps6e0h38vvbu",
        "colab_type": "code",
        "colab": {}
      },
      "cell_type": "code",
      "source": [
        "# Split the dataset for training and testing\n",
        "cutoff = int(.75 * len(sentences))\n",
        "training_sentences = sentences[:cutoff]\n",
        "test_sentences = sentences[cutoff:]\n",
        "\n",
        "\n",
        "def transform_to_dataset(tagged_sentences):\n",
        "    X, y = [], []\n",
        " \n",
        "    for tagged in tagged_sentences:\n",
        "        for index in range(len(tagged)):\n",
        "            X.append(features(untag(tagged), index))\n",
        "            y.append(tagged[index][1])\n",
        " \n",
        "    return X, y\n",
        " \n",
        "# X, y = transform_to_dataset(training_sentences)"
      ],
      "execution_count": 0,
      "outputs": []
    },
    {
      "metadata": {
        "id": "wosenU6mlakw",
        "colab_type": "code",
        "outputId": "dfa44bd0-1bd5-497c-dd3d-ade3ff98ee85",
        "colab": {
          "base_uri": "https://localhost:8080/",
          "height": 240
        }
      },
      "cell_type": "code",
      "source": [
        "X[0]"
      ],
      "execution_count": 0,
      "outputs": [
        {
          "output_type": "execute_result",
          "data": {
            "text/plain": [
              "{'is_all_lower': False,\n",
              " 'is_first': True,\n",
              " 'is_first_cap': 'P',\n",
              " 'is_last': False,\n",
              " 'next_word': 'Vinken',\n",
              " 'prefix-1': 'P',\n",
              " 'prefix-2': 'Pi',\n",
              " 'prefix-3': 'Pie',\n",
              " 'prev_word': '',\n",
              " 'suffix-1': 'e',\n",
              " 'suffix-2': 're',\n",
              " 'suffix-3': 'rre',\n",
              " 'word': 'Pierre'}"
            ]
          },
          "metadata": {
            "tags": []
          },
          "execution_count": 110
        }
      ]
    },
    {
      "metadata": {
        "id": "2Wi1Ux1Ivvbw",
        "colab_type": "text"
      },
      "cell_type": "markdown",
      "source": [
        "## 3.3. В качестве классификатора используем DecisionTreeClassifier"
      ]
    },
    {
      "metadata": {
        "id": "_-FD8jwTvvbx",
        "colab_type": "code",
        "outputId": "8124d25c-3e5e-4ab2-d3a6-52674a46920d",
        "colab": {
          "base_uri": "https://localhost:8080/",
          "height": 153
        }
      },
      "cell_type": "code",
      "source": [
        "from sklearn.tree import DecisionTreeClassifier\n",
        "from sklearn.feature_extraction import DictVectorizer\n",
        "from sklearn.pipeline import Pipeline\n",
        "\n",
        "\n",
        "clf = Pipeline([\n",
        "    ('vectorizer', DictVectorizer(sparse=False)),\n",
        "    ('classifier', DecisionTreeClassifier(criterion='entropy'))\n",
        "])\n",
        "\n",
        "\n",
        "# Используем не все примеры (может не хватить оперативной памяти или долго обучаться)\n",
        "bound = 10000\n",
        "clf.fit(X[:bound], y[:bound])"
      ],
      "execution_count": 0,
      "outputs": [
        {
          "output_type": "execute_result",
          "data": {
            "text/plain": [
              "Pipeline(memory=None,\n",
              "     steps=[('vectorizer', DictVectorizer(dtype=<class 'numpy.float64'>, separator='=', sort=True,\n",
              "        sparse=False)), ('classifier', DecisionTreeClassifier(class_weight=None, criterion='entropy', max_depth=None,\n",
              "            max_features=None, max_leaf_nodes=None,\n",
              "            min_impurity_decrease=0.0, min_impurity_split=None,\n",
              "            min_samples_leaf=1, min_samples_split=2,\n",
              "            min_weight_fraction_leaf=0.0, presort=False, random_state=None,\n",
              "            splitter='best'))])"
            ]
          },
          "metadata": {
            "tags": []
          },
          "execution_count": 111
        }
      ]
    },
    {
      "metadata": {
        "id": "8fJNX5Xqvvbz",
        "colab_type": "code",
        "colab": {}
      },
      "cell_type": "code",
      "source": [
        "X_test, y_test = transform_to_dataset(test_sentences)"
      ],
      "execution_count": 0,
      "outputs": []
    },
    {
      "metadata": {
        "id": "2liVvQ5Kvvb1",
        "colab_type": "code",
        "outputId": "1722fa6d-2266-4d72-dc68-1941dbafd5bc",
        "colab": {
          "base_uri": "https://localhost:8080/",
          "height": 34
        }
      },
      "cell_type": "code",
      "source": [
        "clf.score(X_test, y_test)"
      ],
      "execution_count": 0,
      "outputs": [
        {
          "output_type": "execute_result",
          "data": {
            "text/plain": [
              "0.8908484653704001"
            ]
          },
          "metadata": {
            "tags": []
          },
          "execution_count": 113
        }
      ]
    },
    {
      "metadata": {
        "id": "-r3DUfLdvvb3",
        "colab_type": "text"
      },
      "cell_type": "markdown",
      "source": [
        "## 3.4. Используйте RandomForestClassifier"
      ]
    },
    {
      "metadata": {
        "id": "2baRM92ovvb4",
        "colab_type": "code",
        "outputId": "dd596172-d415-4680-ce46-6ff495399686",
        "colab": {
          "base_uri": "https://localhost:8080/",
          "height": 136
        }
      },
      "cell_type": "code",
      "source": [
        "from sklearn.ensemble import RandomForestClassifier\n",
        "\n",
        "\n",
        "clf = Pipeline([\n",
        "    ('vectorizer', DictVectorizer(sparse=False)),\n",
        "    ('classifier', RandomForestClassifier(criterion='entropy'))\n",
        "])\n",
        "\n",
        "\n",
        "# Используем не все примеры (может не хватить оперативной памяти или долго обучаться)\n",
        "bound = 10000\n",
        "clf.fit(X[:bound], y[:bound])"
      ],
      "execution_count": 0,
      "outputs": [
        {
          "output_type": "execute_result",
          "data": {
            "text/plain": [
              "Pipeline(memory=None,\n",
              "     steps=[('vectorizer', DictVectorizer(dtype=<class 'numpy.float64'>, separator='=', sort=True,\n",
              "        sparse=False)), ('classifier', RandomForestClassifier(bootstrap=True, class_weight=None, criterion='entropy',\n",
              "            max_depth=None, max_features='auto', max_leaf_nodes=None,\n",
              "            min_im...obs=None,\n",
              "            oob_score=False, random_state=None, verbose=0,\n",
              "            warm_start=False))])"
            ]
          },
          "metadata": {
            "tags": []
          },
          "execution_count": 114
        }
      ]
    },
    {
      "metadata": {
        "id": "pxK1LEgTvvb7",
        "colab_type": "code",
        "outputId": "2af5a1d3-3c80-4949-ba1e-a59cdbb93c5a",
        "colab": {
          "base_uri": "https://localhost:8080/",
          "height": 34
        }
      },
      "cell_type": "code",
      "source": [
        "clf.score(X_test, y_test)"
      ],
      "execution_count": 0,
      "outputs": [
        {
          "output_type": "execute_result",
          "data": {
            "text/plain": [
              "0.8948256467941508"
            ]
          },
          "metadata": {
            "tags": []
          },
          "execution_count": 115
        }
      ]
    },
    {
      "metadata": {
        "id": "N_TnTp4jvvb-",
        "colab_type": "text"
      },
      "cell_type": "markdown",
      "source": [
        "## 3.5. Используем с помощью CRF"
      ]
    },
    {
      "metadata": {
        "id": "R7HWF6uXvvb_",
        "colab_type": "code",
        "outputId": "6736e109-31c0-4efc-9d80-8d183e926dfc",
        "colab": {
          "base_uri": "https://localhost:8080/",
          "height": 34
        }
      },
      "cell_type": "code",
      "source": [
        "cutoff = 0\n",
        "len(sentences)"
      ],
      "execution_count": 0,
      "outputs": [
        {
          "output_type": "execute_result",
          "data": {
            "text/plain": [
              "3914"
            ]
          },
          "metadata": {
            "tags": []
          },
          "execution_count": 9
        }
      ]
    },
    {
      "metadata": {
        "id": "OosLWcBdvvcA",
        "colab_type": "code",
        "colab": {}
      },
      "cell_type": "code",
      "source": [
        "train, test = sentences[:-cutoff], sentences[-cutoff:]"
      ],
      "execution_count": 0,
      "outputs": []
    },
    {
      "metadata": {
        "id": "e8lm3OMnvvcH",
        "colab_type": "code",
        "colab": {}
      },
      "cell_type": "code",
      "source": [
        "# from nltk.tag import CRFTagger\n",
        "import sklearn_crfsuite"
      ],
      "execution_count": 0,
      "outputs": []
    },
    {
      "metadata": {
        "id": "uu2toMym1cNO",
        "colab_type": "code",
        "colab": {}
      },
      "cell_type": "code",
      "source": [
        "def word2features(sent, i):\n",
        "    word = sent[i][0]\n",
        "\n",
        "    features = {\n",
        "        'bias': 1.0,\n",
        "        'word.lower()': word.lower(),\n",
        "        'word[-3:]': word[-3:],\n",
        "        'word[-2:]': word[-2:],\n",
        "        'word.isupper()': word.isupper(),\n",
        "        'word.istitle()': word.istitle(),\n",
        "        'word.isdigit()': word.isdigit(),\n",
        "    }\n",
        "    if i > 0:\n",
        "        word1 = sent[i-1][0]\n",
        "        postag1 = sent[i-1][1]\n",
        "        features.update({\n",
        "            '-1:word.lower()': word1.lower(),\n",
        "            '-1:word.istitle()': word1.istitle(),\n",
        "            '-1:word.isupper()': word1.isupper(),\n",
        "        })\n",
        "    if i < len(sent)-1:\n",
        "        word1 = sent[i+1][0]\n",
        "        postag1 = sent[i+1][1]\n",
        "        features.update({\n",
        "            '+1:word.lower()': word1.lower(),\n",
        "            '+1:word.istitle()': word1.istitle(),\n",
        "            '+1:word.isupper()': word1.isupper(),\n",
        "        })\n",
        "\n",
        "    return features\n",
        "\n",
        "\n",
        "def sent2features(sent):\n",
        "    return [word2features(sent, i) for i in range(len(sent))]\n",
        "\n",
        "def sent2labels(sent):\n",
        "    return [label for token, label in sent]\n",
        "\n",
        "def sent2tokens(sent):\n",
        "    return [token for token, label in sent]"
      ],
      "execution_count": 0,
      "outputs": []
    },
    {
      "metadata": {
        "id": "MiGB6DoDsmk7",
        "colab_type": "code",
        "colab": {
          "base_uri": "https://localhost:8080/",
          "height": 185
        },
        "outputId": "67318fca-81d7-40a3-f060-c77cb42ae923"
      },
      "cell_type": "code",
      "source": [
        "sent2features(train[0])[0]"
      ],
      "execution_count": 80,
      "outputs": [
        {
          "output_type": "execute_result",
          "data": {
            "text/plain": [
              "{'+1:word.istitle()': True,\n",
              " '+1:word.isupper()': False,\n",
              " '+1:word.lower()': 'vinken',\n",
              " 'bias': 1.0,\n",
              " 'word.isdigit()': False,\n",
              " 'word.istitle()': True,\n",
              " 'word.isupper()': False,\n",
              " 'word.lower()': 'pierre',\n",
              " 'word[-2:]': 're',\n",
              " 'word[-3:]': 'rre'}"
            ]
          },
          "metadata": {
            "tags": []
          },
          "execution_count": 80
        }
      ]
    },
    {
      "metadata": {
        "id": "-leM3Q1Sssmv",
        "colab_type": "code",
        "colab": {}
      },
      "cell_type": "code",
      "source": [
        "X_train = [sent2features(s) for s in train]\n",
        "y_train = [sent2labels(s) for s in train]\n",
        "\n",
        "X_test = [sent2features(s) for s in test]\n",
        "y_test = [sent2labels(s) for s in test]"
      ],
      "execution_count": 0,
      "outputs": []
    },
    {
      "metadata": {
        "id": "gpz8Mah7ssuX",
        "colab_type": "code",
        "colab": {
          "base_uri": "https://localhost:8080/",
          "height": 50
        },
        "outputId": "f37340c9-7e9f-4015-a961-d283189dbe18"
      },
      "cell_type": "code",
      "source": [
        "%%time\n",
        "crf = sklearn_crfsuite.CRF(\n",
        "    algorithm='lbfgs',\n",
        "    c1=0.1,\n",
        "    c2=0.1,\n",
        "    max_iterations=100,\n",
        "    all_possible_transitions=True\n",
        ")\n",
        "crf.fit(X_train, y_train)"
      ],
      "execution_count": 82,
      "outputs": [
        {
          "output_type": "stream",
          "text": [
            "CPU times: user 23.6 s, sys: 11.8 ms, total: 23.6 s\n",
            "Wall time: 23.6 s\n"
          ],
          "name": "stdout"
        }
      ]
    },
    {
      "metadata": {
        "id": "3gEiGMhqs5BS",
        "colab_type": "code",
        "colab": {}
      },
      "cell_type": "code",
      "source": [
        "from sklearn_crfsuite import scorers\n",
        "from sklearn_crfsuite import metrics"
      ],
      "execution_count": 0,
      "outputs": []
    },
    {
      "metadata": {
        "id": "KeZvV_DcsssP",
        "colab_type": "code",
        "colab": {
          "base_uri": "https://localhost:8080/",
          "height": 34
        },
        "outputId": "5e452cb1-a30d-422b-bc90-a1a72df97f8b"
      },
      "cell_type": "code",
      "source": [
        "y_pred = crf.predict(X_test)\n",
        "metrics.flat_accuracy_score(y_test, y_pred)"
      ],
      "execution_count": 89,
      "outputs": [
        {
          "output_type": "execute_result",
          "data": {
            "text/plain": [
              "0.9348077631094515"
            ]
          },
          "metadata": {
            "tags": []
          },
          "execution_count": 89
        }
      ]
    },
    {
      "metadata": {
        "id": "DLr7aLkHssqD",
        "colab_type": "code",
        "colab": {}
      },
      "cell_type": "code",
      "source": [
        ""
      ],
      "execution_count": 0,
      "outputs": []
    }
  ]
}